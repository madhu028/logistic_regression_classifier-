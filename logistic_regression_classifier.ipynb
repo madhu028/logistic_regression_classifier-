✅ Steps Implemented:


Upload data.csv using files.upload()

Clean & preprocess the data

Train/test split

Standardize features

Train Logistic Regression

Evaluate with:

Confusion Matrix

Classification Report

ROC Curve & AUC

Threshold Tuning

Explain Sigmoid Function output
